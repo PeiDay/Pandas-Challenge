{
 "cells": [
  {
   "cell_type": "markdown",
   "metadata": {},
   "source": [
    "### Note\n",
    "* Instructions have been included for each segment. You do not have to follow them exactly, but they are included to help you think through the steps."
   ]
  },
  {
   "cell_type": "code",
   "execution_count": null,
   "metadata": {},
   "outputs": [],
   "source": [
    "# Dependencies and Setup\n",
    "import pandas as pd\n",
    "\n",
    "# File to Load (Remember to Change These)\n",
    "file_to_load = \"Resources/purchase_data.csv\"\n",
    "\n",
    "# Read Purchasing File and store into Pandas data frame\n",
    "purchase_data_df = pd.read_csv(file_to_load)\n",
    "purchase_data_df.head()"
   ]
  },
  {
   "cell_type": "markdown",
   "metadata": {},
   "source": [
    "## Player Count"
   ]
  },
  {
   "cell_type": "markdown",
   "metadata": {},
   "source": [
    "* Display the total number of players\n"
   ]
  },
  {
   "cell_type": "code",
   "execution_count": null,
   "metadata": {},
   "outputs": [],
   "source": [
    "# get uniques valus from SN column\n",
    "\n",
    "players_count = len(purchase_data_df['SN'].unique())\n",
    "players_count_df = pd.DataFrame({\"Total Players\": [players_count]})\n",
    "players_count_df"
   ]
  },
  {
   "cell_type": "markdown",
   "metadata": {},
   "source": [
    "## Purchasing Analysis (Total)"
   ]
  },
  {
   "cell_type": "markdown",
   "metadata": {},
   "source": [
    "* Run basic calculations to obtain number of unique items, average price, etc.\n",
    "\n",
    "\n",
    "* Create a summary data frame to hold the results\n",
    "\n",
    "\n",
    "* Optional: give the displayed data cleaner formatting\n",
    "\n",
    "\n",
    "* Display the summary data frame\n"
   ]
  },
  {
   "cell_type": "code",
   "execution_count": null,
   "metadata": {
    "scrolled": true
   },
   "outputs": [],
   "source": [
    "# calculations\n",
    "\n",
    "uniqueItem_count = len(purchase_data_df['Item ID'].unique())\n",
    "avg_price = purchase_data_df['Price'].mean()\n",
    "purchase_count = len(purchase_data_df['Purchase ID'])\n",
    "revenue = purchase_data_df['Price'].sum()\n",
    "\n",
    "# summary table of purchasing analysis\n",
    "\n",
    "purchase_analysis_df = pd.DataFrame({'Number of Unique Item': [uniqueItem_count],\n",
    "                                     'Average Price':[avg_price],\n",
    "                                    'Number of Purchases':[purchase_count],\n",
    "                                    'Revenue':[revenue]})\n",
    "purchase_analysis_df[\"Average Price\"] = purchase_analysis_df[\"Average Price\"].map(\"${:.2f}\".format)\n",
    "purchase_analysis_df[\"Revenue\"] = purchase_analysis_df[\"Revenue\"].map(\"${:,.2f}\".format)\n",
    "purchase_analysis_df"
   ]
  },
  {
   "cell_type": "markdown",
   "metadata": {},
   "source": [
    "# Gender Demographics"
   ]
  },
  {
   "cell_type": "markdown",
   "metadata": {},
   "source": [
    "* Percentage and Count of Male Players\n",
    "\n",
    "\n",
    "* Percentage and Count of Female Players\n",
    "\n",
    "\n",
    "* Percentage and Count of Other / Non-Disclosed\n",
    "\n",
    "\n"
   ]
  },
  {
   "cell_type": "code",
   "execution_count": null,
   "metadata": {},
   "outputs": [],
   "source": [
    "# calculation, use unique players for genger count\n",
    "\n",
    "player_sn_df = purchase_data_df.drop_duplicates(subset = 'SN')\n",
    "gender_count = player_sn_df[\"Gender\"].value_counts()\n",
    "gender_demo_df = pd.DataFrame(gender_count)\n",
    "gender_percentage = (gender_count/players_count)*100\n",
    "\n",
    "# summary and formatting\n",
    "gender_demo_df[\"Percentage of Players\"] = gender_percentage\n",
    "gender_demo_df[\"Percentage of Players\"] = gender_demo_df[\"Percentage of Players\"].map(\"{:.2f}%\".format)\n",
    "gender_demo_df"
   ]
  },
  {
   "cell_type": "markdown",
   "metadata": {},
   "source": [
    "\n",
    "## Purchasing Analysis (Gender)"
   ]
  },
  {
   "cell_type": "markdown",
   "metadata": {},
   "source": [
    "* Run basic calculations to obtain purchase count, avg. purchase price, avg. purchase total per person etc. by gender\n",
    "\n",
    "\n",
    "\n",
    "\n",
    "* Create a summary data frame to hold the results\n",
    "\n",
    "\n",
    "* Optional: give the displayed data cleaner formatting\n",
    "\n",
    "\n",
    "* Display the summary data frame"
   ]
  },
  {
   "cell_type": "code",
   "execution_count": null,
   "metadata": {},
   "outputs": [],
   "source": [
    "# group by gender\n",
    "# purchase_data_df.info()\n",
    "grouped_gender_df = purchase_data_df.groupby(['Gender'])\n",
    "\n",
    "grouped_gender_df[\"Purchase ID\"].count()  # Purchase Count \n",
    "gender_avg_price = grouped_gender_df[\"Price\"].mean()  # Average Purchase Price\n",
    "gender_total_purchase = grouped_gender_df[\"Price\"].sum()  # Total Purchase Value\n",
    "gender_avg_total_purchase = gender_total_purchase/gender_count  # Avg Total Purchase per Person\n",
    "\n",
    "# summary and formatting\n",
    "gender_analysis = grouped_gender_df[\"Purchase ID\"].count()\n",
    "gender_analysis_df = pd.DataFrame(gender_analysis) \n",
    "\n",
    "gender_analysis_df[\"Average Purchase Price\"] = gender_avg_price.map(\"${:.2f}\".format)\n",
    "gender_analysis_df[\"Total Purchase Value\"] = gender_total_purchase.map(\"${:,.2f}\".format)\n",
    "gender_analysis_df[\"Avg Total Purchase per Person\"] = gender_avg_total_purchase.map(\"${:.2f}\".format)\n",
    "\n",
    "gender_analysis_df"
   ]
  },
  {
   "cell_type": "markdown",
   "metadata": {},
   "source": [
    "## Age Demographics"
   ]
  },
  {
   "cell_type": "markdown",
   "metadata": {},
   "source": [
    "* Establish bins for ages\n",
    "\n",
    "\n",
    "* Categorize the existing players using the age bins. Hint: use pd.cut()\n",
    "\n",
    "\n",
    "* Calculate the numbers and percentages by age group\n",
    "\n",
    "\n",
    "* Create a summary data frame to hold the results\n",
    "\n",
    "\n",
    "* Optional: round the percentage column to two decimal points\n",
    "\n",
    "\n",
    "* Display Age Demographics Table\n"
   ]
  },
  {
   "cell_type": "code",
   "execution_count": null,
   "metadata": {},
   "outputs": [],
   "source": [
    "# age bins \n",
    "bins = [ 0, 9.9, 14.99, 19.99, 24.99, 29.99, 34.99, 39.99, 100]\n",
    "age_labels = [\"<10\", \"10-14\", \"15-19\", \"20-24\", \"25-29\", \"30-34\", \"35-39\", \"40+\"]\n",
    "pd.cut(player_sn_df[\"Age\"], bins, labels = age_labels)\n",
    "player_sn_df[\"Age Label\"] = pd.cut(player_sn_df[\"Age\"], bins, labels = age_labels)  # add the Age Group column\n",
    "\n",
    "grouped_age_demo_df = player_sn_df.groupby(['Age Label'])\n",
    "grouped_age_count = grouped_age_demo_df[\"Purchase ID\"].count()\n",
    "age_percentage = (grouped_age_count/players_count)*100\n",
    "\n",
    "# summary and formatting\n",
    "age_demo_df = pd.DataFrame({\"Total Count\": grouped_age_count,\n",
    "                            \"Percentage of Players\": age_percentage.map(\"{:.2f}%\".format)})\n",
    "age_demo_df"
   ]
  },
  {
   "cell_type": "markdown",
   "metadata": {},
   "source": [
    "## Purchasing Analysis (Age)"
   ]
  },
  {
   "cell_type": "markdown",
   "metadata": {},
   "source": [
    "* Bin the purchase_data data frame by age\n",
    "\n",
    "\n",
    "* Run basic calculations to obtain purchase count, avg. purchase price, avg. purchase total per person etc. in the table below\n",
    "\n",
    "\n",
    "* Create a summary data frame to hold the results\n",
    "\n",
    "\n",
    "* Optional: give the displayed data cleaner formatting\n",
    "\n",
    "\n",
    "* Display the summary data frame"
   ]
  },
  {
   "cell_type": "code",
   "execution_count": null,
   "metadata": {},
   "outputs": [],
   "source": [
    "# age bins with purchase_data\n",
    "bins = [ 0, 9.9, 14.99, 19.99, 24.99, 29.99, 34.99, 39.99, 100]\n",
    "age_labels = [\"<10\", \"10-14\", \"15-19\", \"20-24\", \"25-29\", \"30-34\", \"35-39\", \"40+\"]\n",
    "pd.cut(purchase_data_df[\"Age\"], bins, labels = age_labels)\n",
    "purchase_data_df[\"Age Label\"] = pd.cut(purchase_data_df[\"Age\"], bins, labels = age_labels)  # add the Age Group columngrouped_age_df = player_sn_df.groupby(['Age Label'])\n",
    "\n",
    "# group by age label\n",
    "grouped_age_df = purchase_data_df.groupby(['Age Label'])\n",
    "age_count = grouped_age_df[\"Purchase ID\"].count()  # Purchase Count \n",
    "age_avg_price = grouped_age_df[\"Price\"].mean()  # Average Purchase Price\n",
    "age_total_purchase = grouped_age_df[\"Price\"].sum()  # Total Purchase Value\n",
    "age_avg_total_purchase = age_total_purchase/grouped_age_count  # Avg Total Purchase per Person\n",
    "\n",
    "# summary and formatting\n",
    "age_analysis = grouped_age_df[\"Purchase ID\"].count()\n",
    "age_analysis_df = pd.DataFrame(age_analysis) \n",
    "age_analysis_df = age_analysis_df.rename(columns={\"Purchase ID\": \"Purchase Count\"})\n",
    "\n",
    "age_analysis_df[\"Average Purchase Price\"] = age_avg_price.map(\"${:.2f}\".format)\n",
    "age_analysis_df[\"Total Purchase Value\"] = age_total_purchase.map(\"${:,.2f}\".format)\n",
    "age_analysis_df[\"Avg Total Purchase per Person\"] = age_avg_total_purchase.map(\"${:.2f}\".format)\n",
    "\n",
    "age_analysis_df"
   ]
  },
  {
   "cell_type": "markdown",
   "metadata": {},
   "source": [
    "## Top Spenders"
   ]
  },
  {
   "cell_type": "markdown",
   "metadata": {},
   "source": [
    "* Run basic calculations to obtain the results in the table below\n",
    "\n",
    "\n",
    "* Create a summary data frame to hold the results\n",
    "\n",
    "\n",
    "* Sort the total purchase value column in descending order\n",
    "\n",
    "\n",
    "* Optional: give the displayed data cleaner formatting\n",
    "\n",
    "\n",
    "* Display a preview of the summary data frame\n",
    "\n"
   ]
  },
  {
   "cell_type": "code",
   "execution_count": null,
   "metadata": {},
   "outputs": [],
   "source": [
    "# group by SN\n",
    "# purchase_data_df.info()\n",
    "grouped_sn_df = purchase_data_df.groupby(['SN'])\n",
    "\n",
    "sn_purchase_count = grouped_sn_df[\"Price\"].count()  # Purchase Count \n",
    "sn_total_spend = grouped_sn_df[\"Price\"].sum() # Total Purchase Value\n",
    "sn_avg_spend = grouped_sn_df[\"Price\"].mean().map(\"${:.2f}\".format)  # Average Purchase Price\n",
    "\n",
    "sn_spend_df = pd.DataFrame(sn_purchase_count)\n",
    "sn_spend_df = sn_spend_df.rename(columns={\"Price\": \"Purchase Count\"})\n",
    "sn_spend_df[\"Average Purchase Price\"] = sn_avg_spend\n",
    "sn_spend_df[\"Total Purchase Value\"] = sn_total_spend\n",
    "top_spend_df = sn_spend_df.sort_values(\"Total Purchase Value\", ascending = False)\n",
    "top_spend_df[\"Total Purchase Value\"] = top_spend_df[\"Total Purchase Value\"].map(\"${:.2f}\".format)\n",
    "\n",
    "top_spend_df.head(5)"
   ]
  },
  {
   "cell_type": "markdown",
   "metadata": {},
   "source": [
    "## Most Popular Items"
   ]
  },
  {
   "cell_type": "markdown",
   "metadata": {},
   "source": [
    "* Retrieve the Item ID, Item Name, and Item Price columns\n",
    "\n",
    "\n",
    "* Group by Item ID and Item Name. Perform calculations to obtain purchase count, average item price, and total purchase value\n",
    "\n",
    "\n",
    "* Create a summary data frame to hold the results\n",
    "\n",
    "\n",
    "* Sort the purchase count column in descending order\n",
    "\n",
    "\n",
    "* Optional: give the displayed data cleaner formatting\n",
    "\n",
    "\n",
    "* Display a preview of the summary data frame\n",
    "\n"
   ]
  },
  {
   "cell_type": "code",
   "execution_count": null,
   "metadata": {},
   "outputs": [],
   "source": [
    "# loc select item ID, item name, price\n",
    "items_df = purchase_data_df.loc[:, [\"Item ID\", \"Item Name\", \"Purchase ID\", \"Price\"]]\n",
    "items_df = items_df.rename(columns={\"Purchase ID\": \"Purchase Count\", \"Price\": \"Item Price\"})\n",
    "\n",
    "grouped_items_df = items_df.groupby(['Item ID','Item Name'])\n",
    "item_purchase_count = grouped_items_df[\"Purchase Count\"].count()\n",
    "total_item_purchase = grouped_items_df[\"Item Price\"].sum()\n",
    "\n",
    "item_popularity_df = pd.DataFrame(item_purchase_count)\n",
    "item_price = total_item_purchase/item_purchase_count\n",
    "\n",
    "item_popularity_df[\"Item Price\"] = item_price.map(\"${:,.2f}\".format)\n",
    "item_popularity_df[\"Total Purchase Value\"] = total_item_purchase\n",
    "item_popularity_df = item_popularity_df.sort_values(\"Purchase Count\", ascending = False)\n",
    "\n",
    "item_popularity_df[\"Total Purchase Value\"] = item_popularity_df[\"Total Purchase Value\"].map(\"${:.2f}\".format)\n",
    "item_popularity_df.head(5)"
   ]
  },
  {
   "cell_type": "markdown",
   "metadata": {},
   "source": [
    "## Most Profitable Items"
   ]
  },
  {
   "cell_type": "markdown",
   "metadata": {},
   "source": [
    "* Sort the above table by total purchase value in descending order\n",
    "\n",
    "\n",
    "* Optional: give the displayed data cleaner formatting\n",
    "\n",
    "\n",
    "* Display a preview of the data frame\n",
    "\n"
   ]
  },
  {
   "cell_type": "code",
   "execution_count": null,
   "metadata": {
    "scrolled": true
   },
   "outputs": [],
   "source": [
    "item_popularity_df[\"Total Purchase Value\"] = total_item_purchase\n",
    "item_popularity_df = item_popularity_df.sort_values(\"Total Purchase Value\", ascending = False)\n",
    "\n",
    "item_popularity_df[\"Total Purchase Value\"] = item_popularity_df[\"Total Purchase Value\"].map(\"${:.2f}\".format)\n",
    "item_popularity_df.head(5)"
   ]
  },
  {
   "cell_type": "code",
   "execution_count": null,
   "metadata": {},
   "outputs": [],
   "source": []
  }
 ],
 "metadata": {
  "anaconda-cloud": {},
  "kernel_info": {
   "name": "python3"
  },
  "kernelspec": {
   "display_name": "Python 3",
   "language": "python",
   "name": "python3"
  },
  "language_info": {
   "codemirror_mode": {
    "name": "ipython",
    "version": 3
   },
   "file_extension": ".py",
   "mimetype": "text/x-python",
   "name": "python",
   "nbconvert_exporter": "python",
   "pygments_lexer": "ipython3",
   "version": "3.8.8"
  },
  "latex_envs": {
   "LaTeX_envs_menu_present": true,
   "autoclose": false,
   "autocomplete": true,
   "bibliofile": "biblio.bib",
   "cite_by": "apalike",
   "current_citInitial": 1,
   "eqLabelWithNumbers": true,
   "eqNumInitial": 1,
   "hotkeys": {
    "equation": "Ctrl-E",
    "itemize": "Ctrl-I"
   },
   "labels_anchors": false,
   "latex_user_defs": false,
   "report_style_numbering": false,
   "user_envs_cfg": false
  },
  "nteract": {
   "version": "0.2.0"
  }
 },
 "nbformat": 4,
 "nbformat_minor": 2
}
